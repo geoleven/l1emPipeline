{
 "cells": [
  {
   "cell_type": "markdown",
   "id": "4feb9e46",
   "metadata": {},
   "source": [
    "We assume conda is installed properly and the user has write access to create and run an environment.\n",
    "\n",
    "We also assume enough available resources for the run. The major one is 64gb or memory. \n",
    "\n",
    "The rest of the parameter files assume a 12 thread CPU (the one we had for the project).\n",
    "\n",
    "We setup an environment and apply some must needed fixes to all the applicable software:"
   ]
  },
  {
   "cell_type": "code",
   "execution_count": null,
   "id": "32ef79ea",
   "metadata": {},
   "outputs": [
    {
     "name": "stdout",
     "output_type": "stream",
     "text": [
      "env: THREADS=12\n",
      "Warning: 'defaults' already in 'channels' list, moving to the top\n",
      "\n",
      "Note: you may need to restart the kernel to use updated packages.\n",
      "Warning: 'bioconda' already in 'channels' list, moving to the top\n",
      "\n",
      "Note: you may need to restart the kernel to use updated packages.\n",
      "Warning: 'conda-forge' already in 'channels' list, moving to the top\n",
      "\n",
      "Note: you may need to restart the kernel to use updated packages.\n",
      "Channels:\n",
      " - conda-forge\n",
      " - bioconda\n",
      " - defaults\n",
      "Platform: linux-64\n",
      "Collecting package metadata (repodata.json): done\n",
      "Solving environment: done\n",
      "\n",
      "# All requested packages already installed.\n",
      "\n",
      "\n",
      "Note: you may need to restart the kernel to use updated packages.\n",
      "Collecting git+https://github.com/itmat/BEERS2\n",
      "  Cloning https://github.com/itmat/BEERS2 to /tmp/pip-req-build-n3ydi0hd\n",
      "  Running command git clone --filter=blob:none --quiet https://github.com/itmat/BEERS2 /tmp/pip-req-build-n3ydi0hd\n",
      "  Resolved https://github.com/itmat/BEERS2 to commit 0fdd2f7db38c1c6858aab415dc80a1e685afe788\n",
      "  Running command git submodule update --init --recursive -q\n",
      "  Installing build dependencies ... \u001b[?25ldone\n",
      "\u001b[?25h  Getting requirements to build wheel ... \u001b[?25ldone\n",
      "\u001b[?25h  Preparing metadata (pyproject.toml) ... \u001b[?25ldone\n",
      "\u001b[?25hCollecting beers_utils@ git+https://github.com/itmat/BEERS_UTILS@52e1a00057d2939651ab587a4ad1a6873dc8d49e (from BEERS2==2.0)\n",
      "  Using cached beers_utils-0.2.0-py3-none-any.whl\n",
      "Collecting camparee@ git+https://github.com/itmat/CAMPAREE@1bb79db71ea8d74495334f1af74025624a4668c7 (from BEERS2==2.0)\n",
      "  Using cached camparee-0.4.2-py3-none-any.whl\n",
      "Requirement already satisfied: appdirs==1.4.4 in /opt/anaconda3/envs/L1EM/lib/python3.11/site-packages (from BEERS2==2.0) (1.4.4)\n",
      "Requirement already satisfied: attrs==22.2.0 in /opt/anaconda3/envs/L1EM/lib/python3.11/site-packages (from BEERS2==2.0) (22.2.0)\n",
      "Requirement already satisfied: boto3==1.26.85 in /opt/anaconda3/envs/L1EM/lib/python3.11/site-packages (from BEERS2==2.0) (1.26.85)\n",
      "Requirement already satisfied: botocore==1.29.85 in /opt/anaconda3/envs/L1EM/lib/python3.11/site-packages (from BEERS2==2.0) (1.29.85)\n",
      "Requirement already satisfied: certifi==2022.12.7 in /opt/anaconda3/envs/L1EM/lib/python3.11/site-packages (from BEERS2==2.0) (2022.12.7)\n",
      "Requirement already satisfied: charset-normalizer==3.1.0 in /opt/anaconda3/envs/L1EM/lib/python3.11/site-packages (from BEERS2==2.0) (3.1.0)\n",
      "Requirement already satisfied: cloudpathlib==0.13.0 in /opt/anaconda3/envs/L1EM/lib/python3.11/site-packages (from BEERS2==2.0) (0.13.0)\n",
      "Requirement already satisfied: ConfigArgParse==1.5.3 in /opt/anaconda3/envs/L1EM/lib/python3.11/site-packages (from BEERS2==2.0) (1.5.3)\n",
      "Requirement already satisfied: connection-pool==0.0.3 in /opt/anaconda3/envs/L1EM/lib/python3.11/site-packages (from BEERS2==2.0) (0.0.3)\n",
      "Requirement already satisfied: contourpy==1.0.7 in /opt/anaconda3/envs/L1EM/lib/python3.11/site-packages (from BEERS2==2.0) (1.0.7)\n",
      "Requirement already satisfied: cycler==0.11.0 in /opt/anaconda3/envs/L1EM/lib/python3.11/site-packages (from BEERS2==2.0) (0.11.0)\n",
      "Requirement already satisfied: Cython==0.29.33 in /opt/anaconda3/envs/L1EM/lib/python3.11/site-packages (from BEERS2==2.0) (0.29.33)\n",
      "Requirement already satisfied: datrie==0.8.2 in /opt/anaconda3/envs/L1EM/lib/python3.11/site-packages (from BEERS2==2.0) (0.8.2)\n",
      "Requirement already satisfied: docutils==0.19 in /opt/anaconda3/envs/L1EM/lib/python3.11/site-packages (from BEERS2==2.0) (0.19)\n",
      "Requirement already satisfied: dpath==2.1.4 in /opt/anaconda3/envs/L1EM/lib/python3.11/site-packages (from BEERS2==2.0) (2.1.4)\n",
      "Requirement already satisfied: fastjsonschema==2.16.3 in /opt/anaconda3/envs/L1EM/lib/python3.11/site-packages (from BEERS2==2.0) (2.16.3)\n",
      "Requirement already satisfied: fonttools==4.39.0 in /opt/anaconda3/envs/L1EM/lib/python3.11/site-packages (from BEERS2==2.0) (4.39.0)\n",
      "Requirement already satisfied: gitdb==4.0.10 in /opt/anaconda3/envs/L1EM/lib/python3.11/site-packages (from BEERS2==2.0) (4.0.10)\n",
      "Requirement already satisfied: GitPython==3.1.31 in /opt/anaconda3/envs/L1EM/lib/python3.11/site-packages (from BEERS2==2.0) (3.1.31)\n",
      "Requirement already satisfied: humanfriendly==10.0 in /opt/anaconda3/envs/L1EM/lib/python3.11/site-packages (from BEERS2==2.0) (10.0)\n",
      "Requirement already satisfied: idna==3.4 in /opt/anaconda3/envs/L1EM/lib/python3.11/site-packages (from BEERS2==2.0) (3.4)\n",
      "Requirement already satisfied: Jinja2==3.1.2 in /opt/anaconda3/envs/L1EM/lib/python3.11/site-packages (from BEERS2==2.0) (3.1.2)\n",
      "Requirement already satisfied: jmespath==1.0.1 in /opt/anaconda3/envs/L1EM/lib/python3.11/site-packages (from BEERS2==2.0) (1.0.1)\n",
      "Requirement already satisfied: jsonschema==4.17.3 in /opt/anaconda3/envs/L1EM/lib/python3.11/site-packages (from BEERS2==2.0) (4.17.3)\n",
      "Requirement already satisfied: jupyter_core==5.2.0 in /opt/anaconda3/envs/L1EM/lib/python3.11/site-packages (from BEERS2==2.0) (5.2.0)\n",
      "Requirement already satisfied: kiwisolver==1.4.4 in /opt/anaconda3/envs/L1EM/lib/python3.11/site-packages (from BEERS2==2.0) (1.4.4)\n",
      "Requirement already satisfied: MarkupSafe==2.1.2 in /opt/anaconda3/envs/L1EM/lib/python3.11/site-packages (from BEERS2==2.0) (2.1.2)\n",
      "Requirement already satisfied: matplotlib==3.7.1 in /opt/anaconda3/envs/L1EM/lib/python3.11/site-packages (from BEERS2==2.0) (3.7.1)\n",
      "Requirement already satisfied: nbformat==5.7.3 in /opt/anaconda3/envs/L1EM/lib/python3.11/site-packages (from BEERS2==2.0) (5.7.3)\n",
      "Requirement already satisfied: numpy==1.24.2 in /opt/anaconda3/envs/L1EM/lib/python3.11/site-packages (from BEERS2==2.0) (1.24.2)\n",
      "Requirement already satisfied: packaging==23.0 in /opt/anaconda3/envs/L1EM/lib/python3.11/site-packages (from BEERS2==2.0) (23.0)\n",
      "Requirement already satisfied: pandas==1.5.3 in /opt/anaconda3/envs/L1EM/lib/python3.11/site-packages (from BEERS2==2.0) (1.5.3)\n",
      "Requirement already satisfied: Pillow==9.4.0 in /opt/anaconda3/envs/L1EM/lib/python3.11/site-packages (from BEERS2==2.0) (9.4.0)\n",
      "Requirement already satisfied: plac==1.3.5 in /opt/anaconda3/envs/L1EM/lib/python3.11/site-packages (from BEERS2==2.0) (1.3.5)\n",
      "Requirement already satisfied: platformdirs==3.1.0 in /opt/anaconda3/envs/L1EM/lib/python3.11/site-packages (from BEERS2==2.0) (3.1.0)\n",
      "Requirement already satisfied: prettytable==3.6.0 in /opt/anaconda3/envs/L1EM/lib/python3.11/site-packages (from BEERS2==2.0) (3.6.0)\n",
      "Requirement already satisfied: psutil==5.9.4 in /opt/anaconda3/envs/L1EM/lib/python3.11/site-packages (from BEERS2==2.0) (5.9.4)\n",
      "Requirement already satisfied: PuLP==2.7.0 in /opt/anaconda3/envs/L1EM/lib/python3.11/site-packages (from BEERS2==2.0) (2.7.0)\n",
      "Requirement already satisfied: pydantic==1.10.5 in /opt/anaconda3/envs/L1EM/lib/python3.11/site-packages (from BEERS2==2.0) (1.10.5)\n",
      "Requirement already satisfied: pyparsing==3.0.9 in /opt/anaconda3/envs/L1EM/lib/python3.11/site-packages (from BEERS2==2.0) (3.0.9)\n",
      "Requirement already satisfied: pyrsistent==0.19.3 in /opt/anaconda3/envs/L1EM/lib/python3.11/site-packages (from BEERS2==2.0) (0.19.3)\n",
      "Requirement already satisfied: pysam==0.20.0 in /opt/anaconda3/envs/L1EM/lib/python3.11/site-packages (from BEERS2==2.0) (0.20.0)\n",
      "Requirement already satisfied: python-dateutil==2.8.2 in /opt/anaconda3/envs/L1EM/lib/python3.11/site-packages (from BEERS2==2.0) (2.8.2)\n",
      "Requirement already satisfied: pytz==2022.7.1 in /opt/anaconda3/envs/L1EM/lib/python3.11/site-packages (from BEERS2==2.0) (2022.7.1)\n",
      "Requirement already satisfied: PyYAML==6.0 in /opt/anaconda3/envs/L1EM/lib/python3.11/site-packages (from BEERS2==2.0) (6.0)\n",
      "Requirement already satisfied: requests==2.28.2 in /opt/anaconda3/envs/L1EM/lib/python3.11/site-packages (from BEERS2==2.0) (2.28.2)\n",
      "Requirement already satisfied: reretry==0.11.8 in /opt/anaconda3/envs/L1EM/lib/python3.11/site-packages (from BEERS2==2.0) (0.11.8)\n",
      "Requirement already satisfied: roman==4.0 in /opt/anaconda3/envs/L1EM/lib/python3.11/site-packages (from BEERS2==2.0) (4.0)\n",
      "Requirement already satisfied: s3transfer==0.6.0 in /opt/anaconda3/envs/L1EM/lib/python3.11/site-packages (from BEERS2==2.0) (0.6.0)\n",
      "Requirement already satisfied: scipy==1.10.1 in /opt/anaconda3/envs/L1EM/lib/python3.11/site-packages (from BEERS2==2.0) (1.10.1)\n",
      "Requirement already satisfied: six==1.16.0 in /opt/anaconda3/envs/L1EM/lib/python3.11/site-packages (from BEERS2==2.0) (1.16.0)\n",
      "Requirement already satisfied: smart-open==6.3.0 in /opt/anaconda3/envs/L1EM/lib/python3.11/site-packages (from BEERS2==2.0) (6.3.0)\n",
      "Requirement already satisfied: smmap==5.0.0 in /opt/anaconda3/envs/L1EM/lib/python3.11/site-packages (from BEERS2==2.0) (5.0.0)\n",
      "Requirement already satisfied: snakemake==7.24.0 in /opt/anaconda3/envs/L1EM/lib/python3.11/site-packages (from BEERS2==2.0) (7.24.0)\n",
      "Requirement already satisfied: stopit==1.1.2 in /opt/anaconda3/envs/L1EM/lib/python3.11/site-packages (from BEERS2==2.0) (1.1.2)\n",
      "Requirement already satisfied: tabulate==0.9.0 in /opt/anaconda3/envs/L1EM/lib/python3.11/site-packages (from BEERS2==2.0) (0.9.0)\n",
      "Requirement already satisfied: termcolor==2.2.0 in /opt/anaconda3/envs/L1EM/lib/python3.11/site-packages (from BEERS2==2.0) (2.2.0)\n",
      "Requirement already satisfied: throttler==1.2.2 in /opt/anaconda3/envs/L1EM/lib/python3.11/site-packages (from BEERS2==2.0) (1.2.2)\n",
      "Requirement already satisfied: toposort==1.10 in /opt/anaconda3/envs/L1EM/lib/python3.11/site-packages (from BEERS2==2.0) (1.10)\n",
      "Requirement already satisfied: traitlets==5.9.0 in /opt/anaconda3/envs/L1EM/lib/python3.11/site-packages (from BEERS2==2.0) (5.9.0)\n",
      "Requirement already satisfied: typing_extensions==4.5.0 in /opt/anaconda3/envs/L1EM/lib/python3.11/site-packages (from BEERS2==2.0) (4.5.0)\n",
      "Requirement already satisfied: urllib3==1.26.14 in /opt/anaconda3/envs/L1EM/lib/python3.11/site-packages (from BEERS2==2.0) (1.26.14)\n",
      "Requirement already satisfied: wcwidth==0.2.6 in /opt/anaconda3/envs/L1EM/lib/python3.11/site-packages (from BEERS2==2.0) (0.2.6)\n",
      "Requirement already satisfied: wrapt==1.15.0 in /opt/anaconda3/envs/L1EM/lib/python3.11/site-packages (from BEERS2==2.0) (1.15.0)\n",
      "Requirement already satisfied: yte==1.5.1 in /opt/anaconda3/envs/L1EM/lib/python3.11/site-packages (from BEERS2==2.0) (1.5.1)\n",
      "Note: you may need to restart the kernel to use updated packages.\n"
     ]
    }
   ],
   "source": [
    "%env THREADS 12\n",
    "\n",
    "\n",
    "# !conda create -n l1em python=3.11 openjdk=21 -y\n",
    "# !conda activate l1em\n",
    "%conda config --add channels defaults\n",
    "%conda config --prepend channels bioconda\n",
    "%conda config --prepend channels conda-forge\n",
    "#!conda config --set channel_priority strict\n",
    "#!conda install bedtools bwa bzip2 fastqc htslib numpy pysam samtools scipy sra-tools trim-galore zstd\n",
    "# %conda install -y python=3.11 openjdk=21 bwa samtools bioconda/label/cf201901::flux-simulator numpy scipy sra-tools trim-galore pysam bedtools pigz wget\n",
    "%conda install -y python=3.11 openjdk=21 bwa samtools flux-simulator numpy scipy sra-tools trim-galore pysam bedtools pigz wget ipython=8.14\n",
    "\n",
    "# Edit the flux-simulator caller script to overcome safety limitation due to old age coding standards (java code reflection)\n",
    "!if ! grep -q -- '--add-opens java.base/java.util=ALL-UNNAMED' $CONDA_PREFIX/share/flux-simulator-1.2.1-3/bin/flux-simulator; then sed -i '/^java -Xmx\\$FLUX_MEM.*/a --add-opens java.base/java.util=ALL-UNNAMED \\\\\\n--add-opens java.desktop/java.awt.font=ALL-UNNAMED \\\\\\n--add-opens java.base/java.text=ALL-UNNAMED' $CONDA_PREFIX/share/flux-simulator-1.2.1-3/bin/flux-simulator; fi\n",
    "\n",
    "%pip install git+https://github.com/itmat/BEERS2"
   ]
  },
  {
   "cell_type": "markdown",
   "id": "99f12b87",
   "metadata": {},
   "source": [
    "We go ahead and download the proper experiment data and the reference genome, while also producing the relevant files from each download:"
   ]
  },
  {
   "cell_type": "code",
   "execution_count": 3,
   "id": "3a53116e",
   "metadata": {},
   "outputs": [
    {
     "name": "stdout",
     "output_type": "stream",
     "text": [
      "Both FASTQ files already exist in the data folder. Skipping fasterq-dump.\n",
      "Trimmed files by trim_galore already exist. Skipping trim_galore.\n",
      "Humane genome 38 found. Assuming it is bwa indexed. Skipping downlaoding, unzipping and indexing it.\n"
     ]
    }
   ],
   "source": [
    "%%bash\n",
    "mkdir -p ./data/experiment\n",
    "if [[ ! -f ./data/experiment/SRR3997504_1.fastq || ! -f ./data/experiment/SRR3997504_2.fastq ]]; then\n",
    "    echo \"One or both FASTQ files do not exist in the data folder. Running fasterq-dump...\"\n",
    "    fasterq-dump -O ./data/experiment SRR3997504\n",
    "else\n",
    "    echo \"Both FASTQ files already exist in the data folder. Skipping fasterq-dump.\"\n",
    "fi\n",
    "if [[ ! -f ./data/experiment/SRR3997504_2_val_2_fastqc.html ]]; then\n",
    "    \"No trimmed files by trim_galore found. Running trim_galore...\"\n",
    "    trim_galore -j $((THREADS/4)) --paired --fastqc -o ./data/experiment/ data/experiment/SRR3997504_1.fastq ./data/experiment/SRR3997504_2.fastq\n",
    "else\n",
    "    echo \"Trimmed files by trim_galore already exist. Skipping trim_galore.\"\n",
    "fi\n",
    "\n",
    "\n",
    "\n",
    "mkdir -p ./data/genome\n",
    "if [[ ! -f ./data/genome/hg38.fa ]]; then\n",
    "    echo \"Humane genome 38 does not exist in the data folder. Downloading, unziping and indexing it...\"\n",
    "    wget -P ./data/genome/ http://hgdownload.cse.ucsc.edu/goldenPath/hg38/bigZips/hg38.fa.gz\n",
    "    pigz -cd -p $THREADS ./data/genome/hg38.fa.gz > ./data/genome/hg38.fa\n",
    "    bwa index ./data/genome/hg38.fa\n",
    "    rm -rf ./data/genome/hg38.fa.gz\n",
    "else\n",
    "    echo \"Humane genome 38 found. Assuming it is bwa indexed. Skipping downlaoding, unzipping and indexing it.\"\n",
    "fi\n",
    "\n",
    "\n"
   ]
  },
  {
   "cell_type": "markdown",
   "id": "c0d8e582",
   "metadata": {},
   "source": [
    "We will try to run the flux-simulator now.\n",
    "\n",
    "To do so we firstly need to create a temporary file for it, split our fasta file into different transcript files and run it."
   ]
  },
  {
   "cell_type": "code",
   "execution_count": null,
   "id": "819904c4",
   "metadata": {},
   "outputs": [],
   "source": [
    "%%bash\n",
    "mkdir -p /tmp/fluxsim\n"
   ]
  },
  {
   "cell_type": "markdown",
   "id": "860ba964",
   "metadata": {},
   "source": [
    "Then we want to do 2 different runs of camparee (following the paper)."
   ]
  }
 ],
 "metadata": {
  "kernelspec": {
   "display_name": "L1EM",
   "language": "python",
   "name": "python3"
  },
  "language_info": {
   "codemirror_mode": {
    "name": "ipython",
    "version": 3
   },
   "file_extension": ".py",
   "mimetype": "text/x-python",
   "name": "python",
   "nbconvert_exporter": "python",
   "pygments_lexer": "ipython3",
   "version": "3.11.13"
  }
 },
 "nbformat": 4,
 "nbformat_minor": 5
}
