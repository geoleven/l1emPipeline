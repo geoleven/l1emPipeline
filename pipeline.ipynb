{
 "cells": [
  {
   "cell_type": "markdown",
   "id": "c589d147",
   "metadata": {},
   "source": [
    "We set our environment for easy access to settings"
   ]
  },
  {
   "cell_type": "code",
   "execution_count": null,
   "id": "421ef978",
   "metadata": {},
   "outputs": [],
   "source": [
    "%env THREADS 12"
   ]
  },
  {
   "cell_type": "markdown",
   "id": "4feb9e46",
   "metadata": {},
   "source": [
    "We assume conda is installed properly and the user has write access to create and run an environment.\n",
    "\n",
    "We also assume enough available resources for the run. The major one is 64gb or memory. \n",
    "\n",
    "The rest of the parameter files assume a 12 thread CPU (the one we had for the project).\n",
    "\n",
    "We setup an environment and apply some must needed fixes to all the applicable software:"
   ]
  },
  {
   "cell_type": "code",
   "execution_count": null,
   "id": "32ef79ea",
   "metadata": {},
   "outputs": [
    {
     "name": "stdout",
     "output_type": "stream",
     "text": [
      "Warning: 'defaults' already in 'channels' list, moving to the top\n",
      "\n",
      "Note: you may need to restart the kernel to use updated packages.\n",
      "Warning: 'bioconda' already in 'channels' list, moving to the top\n",
      "\n",
      "Note: you may need to restart the kernel to use updated packages.\n",
      "Warning: 'conda-forge' already in 'channels' list, moving to the top\n",
      "\n",
      "Note: you may need to restart the kernel to use updated packages.\n",
      "Channels:\n",
      " - conda-forge\n",
      " - bioconda\n",
      " - defaults\n",
      "Platform: linux-64\n",
      "Collecting package metadata (repodata.json): done\n",
      "Solving environment: failed\n",
      "\n",
      "LibMambaUnsatisfiableError: Encountered problems while solving:\n",
      "  - package pygtftk-1.0.1-py36hebb334c_0 requires python >=3.6,<3.7.0a0, but none of the providers can be installed\n",
      "\n",
      "Could not solve for environment specs\n",
      "The following packages are incompatible\n",
      "├─ \u001b[32mpygtftk\u001b[0m is installable with the potential options\n",
      "│  ├─ \u001b[32mpygtftk [1.0.1|1.0.2|...|1.1.0]\u001b[0m would require\n",
      "│  │  └─ \u001b[32mpython >=3.6,<3.7.0a0 \u001b[0m, which can be installed;\n",
      "│  ├─ \u001b[32mpygtftk 1.1.0\u001b[0m would require\n",
      "│  │  └─ \u001b[32mpython >=3.7,<3.8.0a0 \u001b[0m, which can be installed;\n",
      "│  ├─ \u001b[32mpygtftk [1.1.1|1.1.2|...|1.2.7]\u001b[0m would require\n",
      "│  │  ├─ \u001b[32mpython >=3.6,<3.7.0a0 \u001b[0m, which can be installed;\n",
      "│  │  └─ \u001b[32mpython_abi 3.6.* *_cp36m\u001b[0m, which can be installed;\n",
      "│  ├─ \u001b[32mpygtftk [1.1.1|1.1.2|...|1.2.7]\u001b[0m would require\n",
      "│  │  ├─ \u001b[32mpython >=3.7,<3.8.0a0 \u001b[0m, which can be installed;\n",
      "│  │  └─ \u001b[32mpython_abi 3.7.* *_cp37m\u001b[0m, which can be installed;\n",
      "│  ├─ \u001b[32mpygtftk [1.3.0|1.4.0|1.5.0|1.5.1|1.5.3]\u001b[0m would require\n",
      "│  │  ├─ \u001b[32mpython >=3.8,<3.9.0a0 \u001b[0m, which can be installed;\n",
      "│  │  └─ \u001b[32mpython_abi 3.8.* *_cp38\u001b[0m, which can be installed;\n",
      "│  └─ \u001b[32mpygtftk [1.6.0|1.6.1|1.6.2]\u001b[0m would require\n",
      "│     ├─ \u001b[32mpython >=3.9,<3.10.0a0 \u001b[0m, which can be installed;\n",
      "│     └─ \u001b[32mpython_abi 3.9.* *_cp39\u001b[0m, which can be installed;\n",
      "└─ \u001b[31mpython 3.11** \u001b[0m is not installable because there are no viable options\n",
      "   ├─ \u001b[31mpython [3.11.0|3.11.10|...|3.11.9]\u001b[0m conflicts with any installable versions previously reported;\n",
      "   └─ \u001b[31mpython [3.11.0|3.11.1|...|3.11.9]\u001b[0m would require\n",
      "      └─ \u001b[31mpython_abi 3.11.* *_cp311\u001b[0m, which conflicts with any installable versions previously reported.\n",
      "\n",
      "\n",
      "Note: you may need to restart the kernel to use updated packages.\n",
      "Collecting git+https://github.com/itmat/BEERS2\n",
      "  Cloning https://github.com/itmat/BEERS2 to /tmp/pip-req-build-d6hiw5c4\n",
      "  Running command git clone --filter=blob:none --quiet https://github.com/itmat/BEERS2 /tmp/pip-req-build-d6hiw5c4\n",
      "  Resolved https://github.com/itmat/BEERS2 to commit 0fdd2f7db38c1c6858aab415dc80a1e685afe788\n",
      "  Running command git submodule update --init --recursive -q\n",
      "  Installing build dependencies ... \u001b[?25ldone\n",
      "\u001b[?25h  Getting requirements to build wheel ... \u001b[?25ldone\n",
      "\u001b[?25h  Preparing metadata (pyproject.toml) ... \u001b[?25ldone\n",
      "\u001b[?25hCollecting beers_utils@ git+https://github.com/itmat/BEERS_UTILS@52e1a00057d2939651ab587a4ad1a6873dc8d49e (from BEERS2==2.0)\n",
      "  Using cached beers_utils-0.2.0-py3-none-any.whl\n",
      "Collecting camparee@ git+https://github.com/itmat/CAMPAREE@1bb79db71ea8d74495334f1af74025624a4668c7 (from BEERS2==2.0)\n",
      "  Using cached camparee-0.4.2-py3-none-any.whl\n",
      "Requirement already satisfied: appdirs==1.4.4 in /opt/anaconda3/envs/L1EM/lib/python3.11/site-packages (from BEERS2==2.0) (1.4.4)\n",
      "Requirement already satisfied: attrs==22.2.0 in /opt/anaconda3/envs/L1EM/lib/python3.11/site-packages (from BEERS2==2.0) (22.2.0)\n",
      "Requirement already satisfied: boto3==1.26.85 in /opt/anaconda3/envs/L1EM/lib/python3.11/site-packages (from BEERS2==2.0) (1.26.85)\n",
      "Requirement already satisfied: botocore==1.29.85 in /opt/anaconda3/envs/L1EM/lib/python3.11/site-packages (from BEERS2==2.0) (1.29.85)\n",
      "Requirement already satisfied: certifi==2022.12.7 in /opt/anaconda3/envs/L1EM/lib/python3.11/site-packages (from BEERS2==2.0) (2022.12.7)\n",
      "Requirement already satisfied: charset-normalizer==3.1.0 in /opt/anaconda3/envs/L1EM/lib/python3.11/site-packages (from BEERS2==2.0) (3.1.0)\n",
      "Requirement already satisfied: cloudpathlib==0.13.0 in /opt/anaconda3/envs/L1EM/lib/python3.11/site-packages (from BEERS2==2.0) (0.13.0)\n",
      "Requirement already satisfied: ConfigArgParse==1.5.3 in /opt/anaconda3/envs/L1EM/lib/python3.11/site-packages (from BEERS2==2.0) (1.5.3)\n",
      "Requirement already satisfied: connection-pool==0.0.3 in /opt/anaconda3/envs/L1EM/lib/python3.11/site-packages (from BEERS2==2.0) (0.0.3)\n",
      "Requirement already satisfied: contourpy==1.0.7 in /opt/anaconda3/envs/L1EM/lib/python3.11/site-packages (from BEERS2==2.0) (1.0.7)\n",
      "Requirement already satisfied: cycler==0.11.0 in /opt/anaconda3/envs/L1EM/lib/python3.11/site-packages (from BEERS2==2.0) (0.11.0)\n",
      "Requirement already satisfied: Cython==0.29.33 in /opt/anaconda3/envs/L1EM/lib/python3.11/site-packages (from BEERS2==2.0) (0.29.33)\n",
      "Requirement already satisfied: datrie==0.8.2 in /opt/anaconda3/envs/L1EM/lib/python3.11/site-packages (from BEERS2==2.0) (0.8.2)\n",
      "Requirement already satisfied: docutils==0.19 in /opt/anaconda3/envs/L1EM/lib/python3.11/site-packages (from BEERS2==2.0) (0.19)\n",
      "Requirement already satisfied: dpath==2.1.4 in /opt/anaconda3/envs/L1EM/lib/python3.11/site-packages (from BEERS2==2.0) (2.1.4)\n",
      "Requirement already satisfied: fastjsonschema==2.16.3 in /opt/anaconda3/envs/L1EM/lib/python3.11/site-packages (from BEERS2==2.0) (2.16.3)\n",
      "Requirement already satisfied: fonttools==4.39.0 in /opt/anaconda3/envs/L1EM/lib/python3.11/site-packages (from BEERS2==2.0) (4.39.0)\n",
      "Requirement already satisfied: gitdb==4.0.10 in /opt/anaconda3/envs/L1EM/lib/python3.11/site-packages (from BEERS2==2.0) (4.0.10)\n",
      "Requirement already satisfied: GitPython==3.1.31 in /opt/anaconda3/envs/L1EM/lib/python3.11/site-packages (from BEERS2==2.0) (3.1.31)\n",
      "Requirement already satisfied: humanfriendly==10.0 in /opt/anaconda3/envs/L1EM/lib/python3.11/site-packages (from BEERS2==2.0) (10.0)\n",
      "Requirement already satisfied: idna==3.4 in /opt/anaconda3/envs/L1EM/lib/python3.11/site-packages (from BEERS2==2.0) (3.4)\n",
      "Requirement already satisfied: Jinja2==3.1.2 in /opt/anaconda3/envs/L1EM/lib/python3.11/site-packages (from BEERS2==2.0) (3.1.2)\n",
      "Requirement already satisfied: jmespath==1.0.1 in /opt/anaconda3/envs/L1EM/lib/python3.11/site-packages (from BEERS2==2.0) (1.0.1)\n",
      "Requirement already satisfied: jsonschema==4.17.3 in /opt/anaconda3/envs/L1EM/lib/python3.11/site-packages (from BEERS2==2.0) (4.17.3)\n",
      "Requirement already satisfied: jupyter_core==5.2.0 in /opt/anaconda3/envs/L1EM/lib/python3.11/site-packages (from BEERS2==2.0) (5.2.0)\n",
      "Requirement already satisfied: kiwisolver==1.4.4 in /opt/anaconda3/envs/L1EM/lib/python3.11/site-packages (from BEERS2==2.0) (1.4.4)\n",
      "Requirement already satisfied: MarkupSafe==2.1.2 in /opt/anaconda3/envs/L1EM/lib/python3.11/site-packages (from BEERS2==2.0) (2.1.2)\n",
      "Requirement already satisfied: matplotlib==3.7.1 in /opt/anaconda3/envs/L1EM/lib/python3.11/site-packages (from BEERS2==2.0) (3.7.1)\n",
      "Requirement already satisfied: nbformat==5.7.3 in /opt/anaconda3/envs/L1EM/lib/python3.11/site-packages (from BEERS2==2.0) (5.7.3)\n",
      "Requirement already satisfied: numpy==1.24.2 in /opt/anaconda3/envs/L1EM/lib/python3.11/site-packages (from BEERS2==2.0) (1.24.2)\n",
      "Requirement already satisfied: packaging==23.0 in /opt/anaconda3/envs/L1EM/lib/python3.11/site-packages (from BEERS2==2.0) (23.0)\n",
      "Requirement already satisfied: pandas==1.5.3 in /opt/anaconda3/envs/L1EM/lib/python3.11/site-packages (from BEERS2==2.0) (1.5.3)\n",
      "Requirement already satisfied: Pillow==9.4.0 in /opt/anaconda3/envs/L1EM/lib/python3.11/site-packages (from BEERS2==2.0) (9.4.0)\n",
      "Requirement already satisfied: plac==1.3.5 in /opt/anaconda3/envs/L1EM/lib/python3.11/site-packages (from BEERS2==2.0) (1.3.5)\n",
      "Requirement already satisfied: platformdirs==3.1.0 in /opt/anaconda3/envs/L1EM/lib/python3.11/site-packages (from BEERS2==2.0) (3.1.0)\n",
      "Requirement already satisfied: prettytable==3.6.0 in /opt/anaconda3/envs/L1EM/lib/python3.11/site-packages (from BEERS2==2.0) (3.6.0)\n",
      "Requirement already satisfied: psutil==5.9.4 in /opt/anaconda3/envs/L1EM/lib/python3.11/site-packages (from BEERS2==2.0) (5.9.4)\n",
      "Requirement already satisfied: PuLP==2.7.0 in /opt/anaconda3/envs/L1EM/lib/python3.11/site-packages (from BEERS2==2.0) (2.7.0)\n",
      "Requirement already satisfied: pydantic==1.10.5 in /opt/anaconda3/envs/L1EM/lib/python3.11/site-packages (from BEERS2==2.0) (1.10.5)\n",
      "Requirement already satisfied: pyparsing==3.0.9 in /opt/anaconda3/envs/L1EM/lib/python3.11/site-packages (from BEERS2==2.0) (3.0.9)\n",
      "Requirement already satisfied: pyrsistent==0.19.3 in /opt/anaconda3/envs/L1EM/lib/python3.11/site-packages (from BEERS2==2.0) (0.19.3)\n",
      "Requirement already satisfied: pysam==0.20.0 in /opt/anaconda3/envs/L1EM/lib/python3.11/site-packages (from BEERS2==2.0) (0.20.0)\n",
      "Requirement already satisfied: python-dateutil==2.8.2 in /opt/anaconda3/envs/L1EM/lib/python3.11/site-packages (from BEERS2==2.0) (2.8.2)\n",
      "Requirement already satisfied: pytz==2022.7.1 in /opt/anaconda3/envs/L1EM/lib/python3.11/site-packages (from BEERS2==2.0) (2022.7.1)\n",
      "Requirement already satisfied: PyYAML==6.0 in /opt/anaconda3/envs/L1EM/lib/python3.11/site-packages (from BEERS2==2.0) (6.0)\n",
      "Requirement already satisfied: requests==2.28.2 in /opt/anaconda3/envs/L1EM/lib/python3.11/site-packages (from BEERS2==2.0) (2.28.2)\n",
      "Requirement already satisfied: reretry==0.11.8 in /opt/anaconda3/envs/L1EM/lib/python3.11/site-packages (from BEERS2==2.0) (0.11.8)\n",
      "Requirement already satisfied: roman==4.0 in /opt/anaconda3/envs/L1EM/lib/python3.11/site-packages (from BEERS2==2.0) (4.0)\n",
      "Requirement already satisfied: s3transfer==0.6.0 in /opt/anaconda3/envs/L1EM/lib/python3.11/site-packages (from BEERS2==2.0) (0.6.0)\n",
      "Requirement already satisfied: scipy==1.10.1 in /opt/anaconda3/envs/L1EM/lib/python3.11/site-packages (from BEERS2==2.0) (1.10.1)\n",
      "Requirement already satisfied: six==1.16.0 in /opt/anaconda3/envs/L1EM/lib/python3.11/site-packages (from BEERS2==2.0) (1.16.0)\n",
      "Requirement already satisfied: smart-open==6.3.0 in /opt/anaconda3/envs/L1EM/lib/python3.11/site-packages (from BEERS2==2.0) (6.3.0)\n",
      "Requirement already satisfied: smmap==5.0.0 in /opt/anaconda3/envs/L1EM/lib/python3.11/site-packages (from BEERS2==2.0) (5.0.0)\n",
      "Requirement already satisfied: snakemake==7.24.0 in /opt/anaconda3/envs/L1EM/lib/python3.11/site-packages (from BEERS2==2.0) (7.24.0)\n",
      "Requirement already satisfied: stopit==1.1.2 in /opt/anaconda3/envs/L1EM/lib/python3.11/site-packages (from BEERS2==2.0) (1.1.2)\n",
      "Requirement already satisfied: tabulate==0.9.0 in /opt/anaconda3/envs/L1EM/lib/python3.11/site-packages (from BEERS2==2.0) (0.9.0)\n",
      "Requirement already satisfied: termcolor==2.2.0 in /opt/anaconda3/envs/L1EM/lib/python3.11/site-packages (from BEERS2==2.0) (2.2.0)\n",
      "Requirement already satisfied: throttler==1.2.2 in /opt/anaconda3/envs/L1EM/lib/python3.11/site-packages (from BEERS2==2.0) (1.2.2)\n",
      "Requirement already satisfied: toposort==1.10 in /opt/anaconda3/envs/L1EM/lib/python3.11/site-packages (from BEERS2==2.0) (1.10)\n",
      "Requirement already satisfied: traitlets==5.9.0 in /opt/anaconda3/envs/L1EM/lib/python3.11/site-packages (from BEERS2==2.0) (5.9.0)\n",
      "Requirement already satisfied: typing_extensions==4.5.0 in /opt/anaconda3/envs/L1EM/lib/python3.11/site-packages (from BEERS2==2.0) (4.5.0)\n",
      "Requirement already satisfied: urllib3==1.26.14 in /opt/anaconda3/envs/L1EM/lib/python3.11/site-packages (from BEERS2==2.0) (1.26.14)\n",
      "Requirement already satisfied: wcwidth==0.2.6 in /opt/anaconda3/envs/L1EM/lib/python3.11/site-packages (from BEERS2==2.0) (0.2.6)\n",
      "Requirement already satisfied: wrapt==1.15.0 in /opt/anaconda3/envs/L1EM/lib/python3.11/site-packages (from BEERS2==2.0) (1.15.0)\n",
      "Requirement already satisfied: yte==1.5.1 in /opt/anaconda3/envs/L1EM/lib/python3.11/site-packages (from BEERS2==2.0) (1.5.1)\n",
      "Note: you may need to restart the kernel to use updated packages.\n",
      "fatal: destination path 'L1EM' already exists and is not an empty directory.\n"
     ]
    }
   ],
   "source": [
    "# !conda create -n l1em python=3.11 openjdk=21 -y\n",
    "# !conda activate l1em\n",
    "%conda config --add channels defaults\n",
    "%conda config --prepend channels bioconda\n",
    "%conda config --prepend channels conda-forge\n",
    "# %conda install -y python=3.11 openjdk=21 bwa samtools bioconda/label/cf201901::flux-simulator numpy scipy sra-tools trim-galore pysam bedtools pigz wget\n",
    "%conda install -y python=3.11 openjdk=21 bwa samtools flux-simulator numpy scipy sra-tools trim-galore pysam bedtools pigz wget ipython=8.14 bioconda::pygtftk\n",
    "\n",
    "# Edit the flux-simulator caller script to overcome safety limitation due to old age coding standards (java code reflection)\n",
    "!if ! grep -q -- '--add-opens java.base/java.util=ALL-UNNAMED' $CONDA_PREFIX/share/flux-simulator-1.2.1-3/bin/flux-simulator; then sed -i '/^java -Xmx\\$FLUX_MEM.*/a --add-opens java.base/java.util=ALL-UNNAMED \\\\\\n--add-opens java.desktop/java.awt.font=ALL-UNNAMED \\\\\\n--add-opens java.base/java.text=ALL-UNNAMED' $CONDA_PREFIX/share/flux-simulator-1.2.1-3/bin/flux-simulator; fi\n",
    "\n",
    "# Install beers2 and camparee (which is automaticall installed with beers2 and must not be installed separetely)\n",
    "%pip install git+https://github.com/itmat/BEERS2\n",
    "\n",
    "# Download the L1EM project from git\n",
    "!git clone https://github.com/FenyoLab/L1EM"
   ]
  },
  {
   "cell_type": "markdown",
   "id": "99f12b87",
   "metadata": {},
   "source": [
    "We go ahead and download the proper experiment data and the reference genomes, while also producing the relevant files from each download:"
   ]
  },
  {
   "cell_type": "code",
   "execution_count": null,
   "id": "3a53116e",
   "metadata": {},
   "outputs": [
    {
     "name": "stdout",
     "output_type": "stream",
     "text": [
      "Both FASTQ files already exist in the data folder. Skipping fasterq-dump.\n",
      "Trimmed files by trim_galore already exist. Skipping trim_galore.\n",
      "Humane genome 38 found. Assuming it is bwa indexed. Skipping downlaoding, unzipping and indexing it.\n",
      "Homo sapiens genome exists. Skipping downloading it.\n",
      "Start index genome already exists. Skipping downloading it.\n"
     ]
    }
   ],
   "source": [
    "%%bash\n",
    "mkdir -p ./data/experiment\n",
    "if [[ ! -f ./data/experiment/SRR3997504_1.fastq || ! -f ./data/experiment/SRR3997504_2.fastq ]]; then\n",
    "    echo \"One or both FASTQ files do not exist in the data folder. Running fasterq-dump...\"\n",
    "    fasterq-dump -O ./data/experiment SRR3997504\n",
    "else\n",
    "    echo \"Both FASTQ files already exist in the data folder. Skipping fasterq-dump.\"\n",
    "fi\n",
    "if [[ ! -f ./data/experiment/SRR3997504_2_val_2_fastqc.html ]]; then\n",
    "    \"No trimmed files by trim_galore found. Running trim_galore...\"\n",
    "    trim_galore -j $((THREADS/4)) --paired --fastqc -o ./data/experiment/ data/experiment/SRR3997504_1.fastq ./data/experiment/SRR3997504_2.fastq\n",
    "else\n",
    "    echo \"Trimmed files by trim_galore already exist. Skipping trim_galore.\"\n",
    "fi\n",
    "\n",
    "\n",
    "#https://zenodo.org/records/5146236/files/star.tar.gz?download=1\n",
    "\n",
    "\n",
    "mkdir -p ./data/genome\n",
    "if [[ ! -f ./data/genome/hg38.fa ]]; then\n",
    "    echo \"Humane genome 38 does not exist in the data folder. Downloading, unziping and indexing it...\"\n",
    "    wget -q --show-progress --progress=bar:force:noscroll -P ./data/genome/ http://hgdownload.cse.ucsc.edu/goldenPath/hg38/bigZips/hg38.fa.gz\n",
    "    pigz -cd -p $THREADS ./data/genome/hg38.fa.gz > ./data/genome/hg38.fa\n",
    "    bwa index ./data/genome/hg38.fa\n",
    "    rm -rf ./data/genome/hg38.fa.gz\n",
    "else\n",
    "    echo \"Humane genome 38 found. Assuming it is bwa indexed. Skipping downlaoding, unzipping and indexing it.\"\n",
    "fi\n",
    "\n",
    "\n",
    "if [[ ! -f ./data/HomoSapiens_GRCh38_Ensemblv99/HomoSapiens_GRCh38_Ensemblv99.oneline_seqs.fa ]]; then \n",
    "    echo \"Downloading and unzipping homo sapiens genome...\"\n",
    "    wget -q --show-progress --progress=bar:force:noscroll -P ./data/ http://itmat.data-simulators.s3.amazonaws.com/BEERS2/CAMPAREE_RESOURCE_FILES/HomoSapiens_GRCh38_Ensemblv99__Resource_files.tar.gz\n",
    "    pigz -cd -p $THREADS ./data/HomoSapiens_GRCh38_Ensemblv99__Resource_files.tar.gz | tar xf - -C ./data/\n",
    "    rm -rf ./data/HomoSapiens_GRCh38_Ensemblv99__Resource_files.tar.gz\n",
    "else\n",
    "    echo \"Homo sapiens genome exists. Skipping downloading it.\"\n",
    "fi\n",
    "if [[ ! -f ./data/HomoSapiens_GRCh38_Ensemblv99/star_index.genome/Genome ]]; then \n",
    "    echo \"Downloading and unzipping star index genome...\"\n",
    "    wget -q --show-progress --progress=bar:force:noscroll -P ./data/ http://itmat.data-simulators.s3.amazonaws.com/BEERS2/CAMPAREE_RESOURCE_FILES/HomoSapiens_GRCh38_Ensemblv99__STAR_index.tar.gz\n",
    "    pigz -cd -p $THREADS ./data/HomoSapiens_GRCh38_Ensemblv99__STAR_index.tar.gz | tar xf - -C ./data/\n",
    "    rm -rf ./data/HomoSapiens_GRCh38_Ensemblv99__STAR_index.tar.gz\n",
    "else\n",
    "    echo \"Start index genome already exists. Skipping downloading it.\"\n",
    "fi "
   ]
  },
  {
   "cell_type": "markdown",
   "id": "e04a6fd6",
   "metadata": {},
   "source": [
    "We then skip the step of running the generate_L1EM_fasta_and_index.sh by running the commands to adjust for proper paths and skip it if it is already done."
   ]
  },
  {
   "cell_type": "code",
   "execution_count": 6,
   "id": "9ce5ba00",
   "metadata": {},
   "outputs": [
    {
     "name": "stdout",
     "output_type": "stream",
     "text": [
      "L1EM.400.fa already exists. Skipping its creation.\n",
      "L1EM.400.fa was already indexed. Skipping its indexing.\n"
     ]
    }
   ],
   "source": [
    "%%bash\n",
    "if [[ ! -f ./L1EM/annotation/L1EM.400.fa ]]; then \n",
    "    echo \"Creating L1EM.400.fa from L1EM.400.bed...\"\n",
    "    bedtools getfasta -s -name -fi ./data/genome/hg38.fa -bed ./L1EM/annotation/L1EM.400.bed > ./L1EM/annotation/L1EM.400.fa\n",
    "else\n",
    "    echo \"L1EM.400.fa already exists. Skipping its creation.\"\n",
    "fi\n",
    "if [[ ! -f ./L1EM/annotation/L1EM.400.fa.sa ]]; then \n",
    "    echo \"Indexing the L1EM.400.fa...\"\n",
    "    bwa index ./L1EM/annotation/L1EM.400.fa\n",
    "else\n",
    "    echo \"L1EM.400.fa was already indexed. Skipping its indexing.\"\n",
    "fi\n"
   ]
  },
  {
   "cell_type": "markdown",
   "id": "1dfa28ed",
   "metadata": {},
   "source": [
    "We then have to generate the appropriate annotation files. However, as pygtftk is not updated and has conflicting requirements with the rest of the project we are going to be providing the resulting file from runnning the command:"
   ]
  },
  {
   "cell_type": "code",
   "execution_count": null,
   "id": "63a5542b",
   "metadata": {},
   "outputs": [],
   "source": [
    "#!gtftk bed_to_gtf -i ./L1EM/annotation/L1EM.400.bed -o ./annotations/original.gtf"
   ]
  },
  {
   "cell_type": "markdown",
   "id": "9a9ec1ce",
   "metadata": {},
   "source": [
    "We then continue to do various edits that are needed for the various runs that we are going to do. We also have to remove the colons (:) as Camparee is not compatible with them althouth they are not against the gtf standard."
   ]
  },
  {
   "cell_type": "code",
   "execution_count": 40,
   "id": "f2968594",
   "metadata": {},
   "outputs": [],
   "source": [
    "%%bash\n",
    "# Make the colons into underscores\n",
    "if [[ ! -f ./annotations/nocolon.gtf ]]; then \n",
    "    sed -E 's/(\\.chr([1-9]|1[0-9]|2[0-2]|x|y|mt|un)):/\\1_/gI' ./annotations/original.gtf > ./annotations/nocolon.gtf\n",
    "fi\n",
    "# Prepare for the camparee format\n",
    "if [[ ! -f ./annotations/exons.gtf ]]; then \n",
    "    sed 's/\\ttranscript\\t/\\texon\\t/g' ./annotations/nocolon.gtf > ./annotations/exons.gtf\n",
    "fi\n",
    "mkdir -p ./annotations/camparee\n",
    "# if [[ ! -f ./data/HomoSapiens_GRCh38_Ensemblv99/Homo_sapiens.GRCh38.dna.primary_assembly.fa.gz ]]; then \n",
    "#     wget -q --show-progress --progress=bar:force:noscroll -P ./data/HomoSapiens_GRCh38_Ensemblv99/ ftp://ftp.ensembl.org/pub/release-99/fasta/homo_sapiens/dna/Homo_sapiens.GRCh38.dna.primary_assembly.fa.gz\n",
    "# fi\n",
    "# if [[ ! -f ./data/HomoSapiens_GRCh38_Ensemblv99/Homo_sapiens.GRCh38.99.gtf.gz ]]; then \n",
    "#     wget -q --show-progress --progress=bar:force:noscroll -P ./data/HomoSapiens_GRCh38_Ensemblv99/ ftp://ftp.ensembl.org/pub/release-99/gtf/homo_sapiens/Homo_sapiens.GRCh38.99.gtf.gz\n",
    "# fi\n",
    "if [[ ! -f ./annotations/camparee/HomoSapiens_hg38/HomoSapiens_hg38.annotation.txt ]]; then \n",
    "    $CONDA_PREFIX/lib/python3.11/site-packages/camparee/bin/format_reference_files_for_camparee.py -n HomoSapiens_hg38 -o ./annotations/camparee/ -g ./data/genome/hg38.fa -a ./annotations/exons.gtf -p\n",
    "fi\n",
    "if [[ ! -f ./annotations/camparee/HomoSapiens_hg38/HomoSapiens_hg38.annotation.chrNamesfix.txt ]]; then \n",
    "    # sed -E 's/^(chr)([1-9]|1[0-9]|2[0-2]|x|y|mt|un)(\\t)/\\3_/' ./annotations/camparee/HomoSapiens_hg38/HomoSapiens_hg38.annotation.txt > ./annotations/camparee/HomoSapiens_hg38/HomoSapiens_hg38.annotation.chrNamesfix.txt\n",
    "    sed -E 's/^(chr)([^[:space:]]+)/\\2/' ./annotations/camparee/HomoSapiens_hg38/HomoSapiens_hg38.annotation.txt > ./annotations/camparee/HomoSapiens_hg38/HomoSapiens_hg38.annotation.chrNamesfix.txt\n",
    "fi\n",
    "if [[ ! -f ./annotations/camparee/HomoSapiens_hg38/HomoSapiens_hg38.annotation.sorted.txt ]]; then \n",
    "    sort -k1,1 -k4,4n -k5,5n ./annotations/camparee/HomoSapiens_hg38/HomoSapiens_hg38.annotation.chrNamesfix.txt > ./annotations/camparee/HomoSapiens_hg38/HomoSapiens_hg38.annotation.sorted.txt\n",
    "fi\n",
    "if [[ ! -f ./annotations/camparee/HomoSapiens_hg38/HomoSapiens_hg38.annotation.ashes.txt ]]; then \n",
    "    grep -E '^#|L[^ \\t]*\\.1\\.' ./annotations/camparee/HomoSapiens_hg38/HomoSapiens_hg38.annotation.sorted.txt > ./annotations/camparee/HomoSapiens_hg38/HomoSapiens_hg38.annotation.ashes.txt\n",
    "fi\n",
    "\n",
    "cp ./annotations/camparee/HomoSapiens_hg38/HomoSapiens_hg38.annotation.ashes.txt ./data/HomoSapiens_GRCh38_Ensemblv99/HomoSapiens_hg38.annotation.ashes.txt\n",
    "cp ./annotations/camparee/HomoSapiens_hg38/HomoSapiens_hg38.annotation.sorted.txt ./data/HomoSapiens_GRCh38_Ensemblv99/HomoSapiens_hg38.annotation.mixed.txt"
   ]
  },
  {
   "cell_type": "markdown",
   "id": "c0d8e582",
   "metadata": {},
   "source": [
    "We will try to run the flux-simulator now.\n",
    "\n",
    "To do so we firstly need to create a temporary file for it, split our fasta file into different transcript files and run it."
   ]
  },
  {
   "cell_type": "code",
   "execution_count": null,
   "id": "819904c4",
   "metadata": {},
   "outputs": [],
   "source": [
    "%%bash\n",
    "mkdir -p /tmp/fluxsim\n",
    "flux-simulator -p ./data/flux/flux.par -x -l -s\n"
   ]
  },
  {
   "cell_type": "markdown",
   "id": "860ba964",
   "metadata": {},
   "source": [
    "Then we want to do 2 different runs of camparee (following the paper) to simualte the runs."
   ]
  },
  {
   "cell_type": "code",
   "execution_count": 48,
   "id": "c522f6a3",
   "metadata": {},
   "outputs": [
    {
     "name": "stderr",
     "output_type": "stream",
     "text": [
      "Running CAMPAREE using the serial job scheduler.\n",
      "With the following default scheduler parameters:\n",
      " \t-default_submission_args : None\n",
      "\t-default_memory_in_mb : 26000\n",
      "\t-default_num_processors : 10\n"
     ]
    },
    {
     "name": "stdout",
     "output_type": "stream",
     "text": [
      "And a maximum job resubmission limit of 3.\n",
      "Execution of the Expression Pipeline Started...\n",
      "Running jobs:0 | Pending jobs:5 | Resub jobs:0 | Completed jobs:0\n",
      "--Check 5 pending jobs for satisfied dependencies:\n",
      "\tSubmitting GenomeAlignmentStep command to serial for sample SRR3997504.\n",
      "\tFinished submitting GenomeAlignmentStep command to serial for sample SRR3997504.\n",
      "Running jobs:0 | Pending jobs:4 | Resub jobs:0 | Completed jobs:1\n",
      "--Check 4 pending jobs for satisfied dependencies:\n",
      "\tSubmitting GenomeBamIndexStep command to serial for sample SRR3997504.\n",
      "\tFinished submitting GenomeBamIndexStep command to serial for sample SRR3997504.\n",
      "Running jobs:0 | Pending jobs:3 | Resub jobs:0 | Completed jobs:2\n",
      "--Check 3 pending jobs for satisfied dependencies:\n",
      "\tSubmitting VariantsFinderStep command to serial for sample SRR3997504.\n",
      "\tFinished submitting VariantsFinderStep command to serial for sample SRR3997504.\n",
      "\tSubmitting IntronQuantificationStep command to serial for sample SRR3997504.\n",
      "\tFinished submitting IntronQuantificationStep command to serial for sample SRR3997504.\n",
      "Running jobs:0 | Pending jobs:1 | Resub jobs:0 | Completed jobs:4\n",
      "--Check 1 pending jobs for satisfied dependencies:\n",
      "\tSubmitting VariantsCompilationStep command to serial.\n",
      "\tFinished submitting VariantsCompilationStep command to serial.\n",
      "Running jobs:0 | Pending jobs:0 | Resub jobs:0 | Completed jobs:5\n",
      "Processing sample1 (SRR3997504)...\n",
      "Running jobs:0 | Pending jobs:16 | Resub jobs:0 | Completed jobs:5\n",
      "--Check 16 pending jobs for satisfied dependencies:\n",
      "\tSubmitting GenomeBuilderStep command to serial for sample SRR3997504.\n",
      "\tFinished submitting GenomeBuilderStep command to serial for sample SRR3997504.\n",
      "Running jobs:0 | Pending jobs:15 | Resub jobs:0 | Completed jobs:6\n",
      "--Check 15 pending jobs for satisfied dependencies:\n",
      "\tSubmitting UpdateAnnotationForGenomeStep command to serial for sample SRR3997504.\n",
      "\tFinished submitting UpdateAnnotationForGenomeStep command to serial for sample SRR3997504.\n",
      "\tSubmitting UpdateAnnotationForGenomeStep command to serial for sample SRR3997504.\n",
      "\tFinished submitting UpdateAnnotationForGenomeStep command to serial for sample SRR3997504.\n",
      "Running jobs:0 | Pending jobs:13 | Resub jobs:0 | Completed jobs:8\n",
      "--Check 13 pending jobs for satisfied dependencies:\n",
      "\tSubmitting TranscriptomeFastaPreparationStep command to serial for sample SRR3997504.\n",
      "\tFinished submitting TranscriptomeFastaPreparationStep command to serial for sample SRR3997504.\n",
      "\tSubmitting TranscriptomeFastaPreparationStep command to serial for sample SRR3997504.\n",
      "\tFinished submitting TranscriptomeFastaPreparationStep command to serial for sample SRR3997504.\n",
      "Running jobs:0 | Pending jobs:11 | Resub jobs:0 | Completed jobs:10\n",
      "--Check 11 pending jobs for satisfied dependencies:\n",
      "\tSubmitting KallistoIndexStep command to serial for sample SRR3997504.\n",
      "\tFinished submitting KallistoIndexStep command to serial for sample SRR3997504.\n",
      "\tSubmitting Bowtie2IndexStep command to serial for sample SRR3997504.\n",
      "\tFinished submitting Bowtie2IndexStep command to serial for sample SRR3997504.\n",
      "\tSubmitting KallistoIndexStep command to serial for sample SRR3997504.\n",
      "\tFinished submitting KallistoIndexStep command to serial for sample SRR3997504.\n",
      "\tSubmitting Bowtie2IndexStep command to serial for sample SRR3997504.\n",
      "\tFinished submitting Bowtie2IndexStep command to serial for sample SRR3997504.\n",
      "Running jobs:0 | Pending jobs:7 | Resub jobs:0 | Completed jobs:14\n",
      "--Check 7 pending jobs for satisfied dependencies:\n",
      "\tSubmitting KallistoQuantStep command to serial for sample SRR3997504.\n",
      "\tFinished submitting KallistoQuantStep command to serial for sample SRR3997504.\n",
      "\tSubmitting Bowtie2AlignStep command to serial for sample SRR3997504.\n",
      "\tFinished submitting Bowtie2AlignStep command to serial for sample SRR3997504.\n",
      "\tSubmitting KallistoQuantStep command to serial for sample SRR3997504.\n",
      "\tFinished submitting KallistoQuantStep command to serial for sample SRR3997504.\n",
      "\tSubmitting Bowtie2AlignStep command to serial for sample SRR3997504.\n",
      "\tFinished submitting Bowtie2AlignStep command to serial for sample SRR3997504.\n",
      "Running jobs:0 | Pending jobs:3 | Resub jobs:0 | Completed jobs:18\n",
      "--Check 3 pending jobs for satisfied dependencies:\n",
      "\tSubmitting TranscriptGeneQuantificationStep command to serial for sample SRR3997504.\n",
      "\tFinished submitting TranscriptGeneQuantificationStep command to serial for sample SRR3997504.\n",
      "\tSubmitting AllelicImbalanceQuantificationStep command to serial for sample SRR3997504.\n",
      "\tFinished submitting AllelicImbalanceQuantificationStep command to serial for sample SRR3997504.\n",
      "Running jobs:0 | Pending jobs:1 | Resub jobs:0 | Completed jobs:20\n",
      "--Check 1 pending jobs for satisfied dependencies:\n",
      "\tSubmitting MoleculeMakerStep command to serial for sample SRR3997504.\n",
      "\tFinished submitting MoleculeMakerStep command to serial for sample SRR3997504.\n",
      "Running jobs:0 | Pending jobs:0 | Resub jobs:0 | Completed jobs:21\n",
      "Execution of the Expression Pipeline Ended\n"
     ]
    }
   ],
   "source": [
    "%%bash\n",
    "camparee -c ./configs/camparee.ashes.yaml -r1\n",
    "# camparee -c ./configs/camparee.mixed.yaml -r2"
   ]
  },
  {
   "cell_type": "markdown",
   "id": "0523215c",
   "metadata": {},
   "source": [
    "We then use beer2 to account for the errors"
   ]
  },
  {
   "cell_type": "code",
   "execution_count": null,
   "id": "42e8b574",
   "metadata": {},
   "outputs": [
    {
     "name": "stdout",
     "output_type": "stream",
     "text": [
      "\u001b[31mTypeError in file /opt/anaconda3/envs/L1EM/lib/python3.11/site-packages/beers/Snakefile, line 83:\n",
      "C function scipy.spatial._qhull._barycentric_coordinates has wrong signature (expected void (int, double *, double *, double *), got void (int, double *, double const *, double *))\n",
      "  File \"/opt/anaconda3/envs/L1EM/lib/python3.11/site-packages/beers/Snakefile\", line 83, in <module>\n",
      "  File \"/opt/anaconda3/envs/L1EM/lib/python3.11/site-packages/beers/library_prep/library_prep_pipeline.py\", line 59, in validate\n",
      "  File \"/opt/anaconda3/envs/L1EM/lib/python3.11/importlib/__init__.py\", line 126, in import_module\n",
      "  File \"<frozen importlib._bootstrap>\", line 1204, in _gcd_import\n",
      "  File \"<frozen importlib._bootstrap>\", line 1176, in _find_and_load\n",
      "  File \"<frozen importlib._bootstrap>\", line 1147, in _find_and_load_unlocked\n",
      "  File \"<frozen importlib._bootstrap>\", line 690, in _load_unlocked\n",
      "  File \"<frozen importlib._bootstrap_external>\", line 940, in exec_module\n",
      "  File \"<frozen importlib._bootstrap>\", line 241, in _call_with_frames_removed\n",
      "  File \"/opt/anaconda3/envs/L1EM/lib/python3.11/site-packages/beers/library_prep/fragment_step.py\", line 6, in <module>\n",
      "  File \"/opt/anaconda3/envs/L1EM/lib/python3.11/site-packages/scipy/stats/__init__.py\", line 626, in <module>\n",
      "  File \"/opt/anaconda3/envs/L1EM/lib/python3.11/site-packages/scipy/stats/_stats_py.py\", line 52, in <module>\n",
      "  File \"/opt/anaconda3/envs/L1EM/lib/python3.11/site-packages/scipy/stats/distributions.py\", line 10, in <module>\n",
      "  File \"/opt/anaconda3/envs/L1EM/lib/python3.11/site-packages/scipy/stats/_continuous_distns.py\", line 13, in <module>\n",
      "  File \"/opt/anaconda3/envs/L1EM/lib/python3.11/site-packages/scipy/interpolate/__init__.py\", line 219, in <module>\n",
      "  File \"interpnd.pyx\", line 1, in init scipy.interpolate.interpnd\u001b[0m\n"
     ]
    }
   ],
   "source": [
    "# %%bash\n",
    "# %conda install -y numpy=1.25.2\n",
    "%pip install git+https://github.com/itmat/BEERS2\n",
    "!beers --configfile ./configs/beers2.ashes.yaml --jobs 4\n",
    "# beers --configfile ./configs/beers2.mixed.yaml --jobs 4"
   ]
  },
  {
   "cell_type": "markdown",
   "id": "a2e49a0d",
   "metadata": {},
   "source": [
    "We then take the output of the beers and we merge"
   ]
  },
  {
   "cell_type": "code",
   "execution_count": null,
   "id": "f6e78a0c",
   "metadata": {},
   "outputs": [],
   "source": [
    "%%bash\n"
   ]
  },
  {
   "cell_type": "markdown",
   "id": "84a18ad1",
   "metadata": {},
   "source": []
  },
  {
   "cell_type": "code",
   "execution_count": null,
   "id": "63ff0d13",
   "metadata": {},
   "outputs": [],
   "source": []
  }
 ],
 "metadata": {
  "kernelspec": {
   "display_name": "L1EM",
   "language": "python",
   "name": "python3"
  },
  "language_info": {
   "codemirror_mode": {
    "name": "ipython",
    "version": 3
   },
   "file_extension": ".py",
   "mimetype": "text/x-python",
   "name": "python",
   "nbconvert_exporter": "python",
   "pygments_lexer": "ipython3",
   "version": "3.11.13"
  }
 },
 "nbformat": 4,
 "nbformat_minor": 5
}
