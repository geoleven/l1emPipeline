{
 "cells": [
  {
   "cell_type": "markdown",
   "id": "4feb9e46",
   "metadata": {},
   "source": [
    "We assume conda is installed properly and the user has write access to create and run an environment.\n",
    "\n",
    "We also assume enough available resources for the run. The major one is 64gb or memory. \n",
    "\n",
    "The rest of the parameter files assume a 12 thread CPU (the one we had for the project).\n",
    "\n",
    "We setup an environment and apply some must needed fixes to all the applicable software:"
   ]
  },
  {
   "cell_type": "code",
   "execution_count": null,
   "id": "32ef79ea",
   "metadata": {},
   "outputs": [
    {
     "ename": "",
     "evalue": "",
     "output_type": "error",
     "traceback": [
      "\u001b[1;31mFailed to start the Kernel. \n",
      "\u001b[1;31mTypeError: type 'List' is not subscriptable. \n",
      "\u001b[1;31mView Jupyter <a href='command:jupyter.viewOutput'>log</a> for further details."
     ]
    }
   ],
   "source": [
    "%env THREADS 12\n",
    "\n",
    "\n",
    "# !conda create -n l1em python=3.11 openjdk=21 -y\n",
    "# !conda activate l1em\n",
    "%conda config --add channels defaults\n",
    "%conda config --prepend channels bioconda\n",
    "%conda config --prepend channels conda-forge\n",
    "#!conda config --set channel_priority strict\n",
    "#!conda install bedtools bwa bzip2 fastqc htslib numpy pysam samtools scipy sra-tools trim-galore zstd\n",
    "# %conda install -y python=3.11 openjdk=21 bwa samtools bioconda/label/cf201901::flux-simulator numpy scipy sra-tools trim-galore pysam bedtools pigz wget\n",
    "%conda install -y python=3.11 openjdk=21 bwa samtools flux-simulator numpy scipy sra-tools trim-galore pysam bedtools pigz wget ipython=8.14\n",
    "\n",
    "# Edit the flux-simulator caller script to overcome safety limitation due to old age coding standards (java code reflection)\n",
    "!if ! grep -q -- '--add-opens java.base/java.util=ALL-UNNAMED' $CONDA_PREFIX/share/flux-simulator-1.2.1-3/bin/flux-simulator; then sed -i '/^java -Xmx\\$FLUX_MEM.*/a --add-opens java.base/java.util=ALL-UNNAMED \\\\\\n--add-opens java.desktop/java.awt.font=ALL-UNNAMED \\\\\\n--add-opens java.base/java.text=ALL-UNNAMED' $CONDA_PREFIX/share/flux-simulator-1.2.1-3/bin/flux-simulator; fi\n",
    "\n",
    "%pip install git+https://github.com/itmat/BEERS2 #git+https://github.com/itmat/CAMPAREE"
   ]
  },
  {
   "cell_type": "markdown",
   "id": "99f12b87",
   "metadata": {},
   "source": [
    "We go ahead and download the proper experiment data and the reference genome, while also producing the relevant files from each download:"
   ]
  },
  {
   "cell_type": "code",
   "execution_count": null,
   "id": "3a53116e",
   "metadata": {},
   "outputs": [],
   "source": [
    "%%bash\n",
    "mkdir -p ./data/experiment\n",
    "if [[ ! -f ./data/experiment/SRR3997504_1.fastq || ! -f ./data/experiment/SRR3997504_2.fastq ]]; then\n",
    "    echo \"One or both FASTQ files do not exist in the data folder. Running fasterq-dump...\"\n",
    "    fasterq-dump -O ./data/experiment SRR3997504\n",
    "else\n",
    "    echo \"Both FASTQ files already exist in the data folder. Skipping fasterq-dump.\"\n",
    "fi\n",
    "if [[ ! -f ./data/experiment/SRR3997504_2_val_2_fastqc.html ]]; then\n",
    "    \"No trimmed files by trim_galore found. Running trim_galore...\"\n",
    "    trim_galore -j $((THREADS/4)) --paired --fastqc -o ./data/experiment/ data/experiment/SRR3997504_1.fastq ./data/experiment/SRR3997504_2.fastq\n",
    "else\n",
    "    echo \"Trimmed files by trim_galore already exist. Skipping trim_galore.\"\n",
    "fi\n",
    "\n",
    "\n",
    "\n",
    "mkdir -p ./data/genome\n",
    "if [[ ! -f ./data/genome/hg38.fa ]]; then\n",
    "    echo \"Humane genome 38 does not exist in the data folder. Downloading, unziping and indexing it...\"\n",
    "    wget -P ./data/genome/ http://hgdownload.cse.ucsc.edu/goldenPath/hg38/bigZips/hg38.fa.gz\n",
    "    pigz -cd -p $THREADS ./data/genome/hg38.fa.gz > ./data/genome/hg38.fa\n",
    "    bwa index ./data/genome/hg38.fa\n",
    "    rm -rf ./data/genome/hg38.fa.gz\n",
    "else\n",
    "    echo \"Humane genome 38 found. Assuming it is bwa indexed. Skipping downlaoding, unzipping and indexing it.\"\n",
    "fi\n",
    "\n",
    "\n"
   ]
  }
 ],
 "metadata": {
  "kernelspec": {
   "display_name": "L1EM",
   "language": "python",
   "name": "python3"
  },
  "language_info": {
   "codemirror_mode": {
    "name": "ipython",
    "version": 3
   },
   "file_extension": ".py",
   "mimetype": "text/x-python",
   "name": "python",
   "nbconvert_exporter": "python",
   "pygments_lexer": "ipython3",
   "version": "3.11.13"
  }
 },
 "nbformat": 4,
 "nbformat_minor": 5
}
